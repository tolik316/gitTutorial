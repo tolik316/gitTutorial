{
 "cells": [
  {
   "cell_type": "code",
   "execution_count": 1,
   "metadata": {},
   "outputs": [],
   "source": [
    "import numpy as np\n",
    "#import warnings\n",
    "#warnings.filterwarnings('ignore')\n",
    "\n",
    "#бінарний алгоритм піднесення до степені\n",
    "def stepin(a, b, p):\n",
    "    rez=[a]\n",
    "    #а - яке число, b- в яку степінь, p - по якому модулю\n",
    "    bin_b=list(bin(b)[2:])# знаходимо бынарний запис числа, в яку степінь потрыбно помножити\n",
    "    for i in range(len(bin_b)):\n",
    "        bin_b[i]=int(bin_b[i])\n",
    "    for i in range(len(bin_b)-1):\n",
    "        rez=[(rez[0]**2)%p]+rez\n",
    "        \n",
    "    rez=np.array(rez)\n",
    "    bin_b=np.array(bin_b)\n",
    "    rez_=rez**bin_b\n",
    "    rez__=1\n",
    "    for i in rez_:\n",
    "        rez__*=i\n",
    "        rez__%=p\n",
    "    rez__%=p\n",
    "    return(rez__)\n"
   ]
  },
  {
   "cell_type": "markdown",
   "metadata": {},
   "source": [
    "Завдання 1. Знаходження твірного елемента"
   ]
  },
  {
   "cell_type": "code",
   "execution_count": 2,
   "metadata": {},
   "outputs": [
    {
     "name": "stdout",
     "output_type": "stream",
     "text": [
      "введіть непарне просте p, бінарна довжина якого менша за 20:   997\n",
      "[7, 11, 17, 21, 26, 28, 29, 33, 38, 41, 43, 44, 46, 47, 51, 61, 63, 65, 68, 70, 78, 84, 87, 95, 98, 99, 103, 104, 106, 110, 112, 114, 115, 116, 118, 123, 127, 129, 132, 138, 141, 142, 143, 146, 152, 153, 154, 157, 158, 163, 164, 170, 172, 175, 176, 178, 179, 181, 183, 184, 188, 189, 191, 195, 202, 204, 210, 211, 214, 217, 233, 234, 239, 241, 242, 244, 245, 251, 260, 261, 262, 265, 271, 272, 273, 274, 275, 278, 280, 281, 285, 290, 293, 294, 295, 297, 298, 302, 309, 312, 317, 318, 323, 330, 336, 338, 341, 342, 345, 346, 347, 348, 354, 355, 364, 365, 367, 369, 371, 380, 381, 383, 385, 387, 389, 391, 392, 395, 396, 410, 412, 413, 414, 416, 419, 423, 424, 425, 426, 429, 430, 433, 438, 440, 445, 446, 448, 454, 456, 459, 460, 462, 463, 464, 469, 470, 471, 472, 474, 479, 481, 487, 489, 492, 505, 508, 510, 516, 518, 523, 525, 526, 527, 528, 533, 534, 535, 537, 538, 541, 543, 549, 551, 552, 557, 559, 564, 567, 568, 571, 572, 573, 574, 578, 581, 583, 584, 585, 587, 601, 602, 605, 606, 608, 610, 612, 614, 616, 617, 626, 628, 630, 632, 633, 642, 643, 649, 650, 651, 652, 655, 656, 659, 661, 667, 674, 679, 680, 685, 688, 695, 699, 700, 702, 703, 704, 707, 712, 716, 717, 719, 722, 723, 724, 725, 726, 732, 735, 736, 737, 746, 752, 753, 755, 756, 758, 763, 764, 780, 783, 786, 787, 793, 795, 802, 806, 808, 809, 813, 814, 816, 818, 819, 821, 822, 825, 827, 833, 834, 839, 840, 843, 844, 845, 851, 854, 855, 856, 859, 865, 868, 870, 874, 879, 881, 882, 883, 885, 887, 891, 893, 894, 898, 899, 902, 910, 913, 919, 927, 929, 932, 934, 936, 946, 950, 951, 953, 954, 956, 959, 964, 968, 969, 971, 976, 980, 986, 990]\n"
     ]
    }
   ],
   "source": [
    "p=int(input('введіть непарне просте p, бінарна довжина якого менша за 20:   '))\n",
    "while (p>=2**20) or (p%2!=1):#якщо введене p більше рівне 2**20, то його десятковий запис має більше 20 цифр. Якщо  p%2!=1, то іоно парне. Тому в обох випадках просимо ввести коректне p  \n",
    "    p=int(input('введіть коректне непарне просте p, бінарна довжина якого менша за 20:  '))\n",
    "def tvirniy(p):\n",
    "    \n",
    "    tvirni=[]\n",
    "    for a in range(1, p):#перебираємо всі елемнти групи ?\n",
    "        if stepin(a,p-1,p) == 1:#перевіряємо, що дійсно елемент, що перевіряється, в p-1 степені дає нейтральний.\n",
    "            \n",
    "            for i in range(2,p-1):\n",
    "                if stepin(a,i,p)==1:#якщо a в якомусь степені до p-1 дало 1, то цей елемент не є твірним\n",
    "                    break#перериваємо вннутрішній цикл\n",
    "                else: #якщо елемент пройшов всі перевірки, можемо додати його в список твірних елементів\n",
    "                    continue#Переходимо на наступний крок циклу\n",
    "            else:\n",
    "                tvirni.append(a)\n",
    "    return(tvirni)\n",
    "    \n",
    "print(tvirniy(p))"
   ]
  },
  {
   "cell_type": "markdown",
   "metadata": {},
   "source": [
    "# Завдання 2. Знаходження дискретного логарифму методом маленьких-великих кроків."
   ]
  },
  {
   "cell_type": "code",
   "execution_count": 3,
   "metadata": {},
   "outputs": [],
   "source": [
    "\n",
    "def baby_giant_step(a, h, p, dija, f_inv, e):\n",
    "    '''a - твірний елемент. h- елемент, логарифм з якого шукаєм твірний елемент, p-порядок групи, dija - функція, що визначає дію множення для групи.  f_inv - функція, що визначає взяття оберненого для групи. e - нейтральний елемент Повертає DLog(h)'''\n",
    "    M=int(np.sqrt(p)//1)\n",
    "    little=[e, a]\n",
    "    #рахуємо значення на малих кроках\n",
    "    for i in range(2, M+1):\n",
    "        little.append(dija(little[-1], a))#виконумо дію між значенням, отриманим на попередньому кроці та твірним елементом.\n",
    "    k=1\n",
    "    a_M=f_inv(little[-1])#обернений до елементу a**M (a**M тут означає, що над a повторили дію групи m разів)\n",
    "  \n",
    "    giant=[dija(h, a_M)]\n",
    "    #робимо гігантські кроки\n",
    "    while giant[-1] not in little:\n",
    "        giant.append(dija(giant[-1], a_M))\n",
    "        k+=1\n",
    "    ##коли цикл завершиться, ми отримаємо таке число, що h*a**(-kM)=a**L для деякого L, що не перевищує М. (* - дія групи, x**y - над елементом x проробили дію групи у разів  )\n",
    "    ##Знаходимо це L\n",
    "    for L in range (M+1):\n",
    "        if little[L]==giant[-1]:\n",
    "            rez=L+k*M#знаходимо власне відповідь\n",
    "            \n",
    "            return(rez)\n",
    "                   \n",
    "\n"
   ]
  },
  {
   "cell_type": "markdown",
   "metadata": {},
   "source": [
    "перевіряємо на адитивній групі Z13"
   ]
  },
  {
   "cell_type": "code",
   "execution_count": 1,
   "metadata": {},
   "outputs": [
    {
     "ename": "NameError",
     "evalue": "name 'baby_giant_step' is not defined",
     "output_type": "error",
     "traceback": [
      "\u001b[1;31m---------------------------------------------------------------------------\u001b[0m",
      "\u001b[1;31mNameError\u001b[0m                                 Traceback (most recent call last)",
      "\u001b[1;32m<ipython-input-1-babb0c3a6b90>\u001b[0m in \u001b[0;36m<module>\u001b[1;34m\u001b[0m\n\u001b[0;32m      7\u001b[0m \u001b[1;31m#знайдемо дискретний логарифм з 3 по основі 2. Нейтральний для адитивної групи лишків - це 0\u001b[0m\u001b[1;33m\u001b[0m\u001b[1;33m\u001b[0m\u001b[1;33m\u001b[0m\u001b[0m\n\u001b[0;32m      8\u001b[0m \u001b[1;33m\u001b[0m\u001b[0m\n\u001b[1;32m----> 9\u001b[1;33m \u001b[0mprint\u001b[0m\u001b[1;33m(\u001b[0m\u001b[0mbaby_giant_step\u001b[0m\u001b[1;33m(\u001b[0m\u001b[1;36m2\u001b[0m\u001b[1;33m,\u001b[0m \u001b[1;36m3\u001b[0m\u001b[1;33m,\u001b[0m \u001b[1;36m13\u001b[0m\u001b[1;33m,\u001b[0m \u001b[0mdija\u001b[0m\u001b[1;33m,\u001b[0m \u001b[0mf_inv\u001b[0m\u001b[1;33m,\u001b[0m \u001b[1;36m0\u001b[0m\u001b[1;33m)\u001b[0m\u001b[1;33m)\u001b[0m\u001b[1;33m\u001b[0m\u001b[1;33m\u001b[0m\u001b[0m\n\u001b[0m",
      "\u001b[1;31mNameError\u001b[0m: name 'baby_giant_step' is not defined"
     ]
    }
   ],
   "source": [
    "\n",
    "def dija(a, b):\n",
    "    '''в якості дії - додавання за модулем 13'''\n",
    "    return((a+b)%13)\n",
    "def f_inv(a):\n",
    "    '''обернений до елемента - цей же елемеент з протилежним знаком за модулем 13'''\n",
    "    return(-a%13)\n",
    "#знайдемо дискретний логарифм з 3 по основі 2. Нейтральний для адитивної групи лишків - це 0\n",
    "\n",
    "print(baby_giant_step(2, 3, 13, dija, f_inv, 0))"
   ]
  },
  {
   "cell_type": "markdown",
   "metadata": {},
   "source": [
    "перевірка"
   ]
  },
  {
   "cell_type": "code",
   "execution_count": 5,
   "metadata": {},
   "outputs": [
    {
     "data": {
      "text/plain": [
       "3"
      ]
     },
     "execution_count": 5,
     "metadata": {},
     "output_type": "execute_result"
    }
   ],
   "source": [
    "(2*8)%13"
   ]
  },
  {
   "cell_type": "markdown",
   "metadata": {},
   "source": [
    "ми переконалися, що якщо над 2 повторити дыю групи 8 разів, то дійсно отримаємо 3. Отже, в даній групі дискретний логарифм з 3 по основі 2 буде 8 - алгоритм спрацював правильно."
   ]
  },
  {
   "cell_type": "markdown",
   "metadata": {},
   "source": [
    "# Завдання 3. Алгоритм Діффі-Хеллмана"
   ]
  },
  {
   "cell_type": "code",
   "execution_count": 6,
   "metadata": {},
   "outputs": [],
   "source": [
    "import numpy as np"
   ]
  },
  {
   "cell_type": "markdown",
   "metadata": {},
   "source": [
    "Блок вибору параметрів"
   ]
  },
  {
   "cell_type": "code",
   "execution_count": 7,
   "metadata": {},
   "outputs": [
    {
     "name": "stdout",
     "output_type": "stream",
     "text": [
      "Введіть просте число p 13\n",
      "Введіть ціле число a, більше за 0 і менше за p, яке буде використовуватись в якості твірного елемента групи 10\n"
     ]
    }
   ],
   "source": [
    "\n",
    "p=int(input('Введіть просте число p '))#для спрощення коду, не будемо перевіряти простоту введенего числа, розраховуючи на свідомість користувача\n",
    "a=int(input('Введіть ціле число a, більше за 0 і менше за p, яке буде використовуватись в якості твірного елемента групи '))\n",
    "#допоки a не буде введено коректно, будемо повторювати ввід  a\n",
    "while (a<=0) or (a>=p):\n",
    "    a=int(input('Введіть ціле число a, більше за 0 і менше за p, яке буде використовуватись в якості твірного елемента групи '))"
   ]
  },
  {
   "cell_type": "markdown",
   "metadata": {},
   "source": [
    "Блок Аліси"
   ]
  },
  {
   "cell_type": "code",
   "execution_count": 2,
   "metadata": {},
   "outputs": [
    {
     "name": "stdout",
     "output_type": "stream",
     "text": [
      "Алісо, придумайте свій секретний ключ Ka\n",
      "Алісо, введіть натуральне число 5\n"
     ]
    },
    {
     "ename": "NameError",
     "evalue": "name 'stepin' is not defined",
     "output_type": "error",
     "traceback": [
      "\u001b[1;31m---------------------------------------------------------------------------\u001b[0m",
      "\u001b[1;31mNameError\u001b[0m                                 Traceback (most recent call last)",
      "\u001b[1;32m<ipython-input-2-e92cbc6cc40b>\u001b[0m in \u001b[0;36m<module>\u001b[1;34m\u001b[0m\n\u001b[0;32m      4\u001b[0m \u001b[1;32mwhile\u001b[0m \u001b[1;33m(\u001b[0m\u001b[0mKa\u001b[0m\u001b[1;33m<=\u001b[0m\u001b[1;36m0\u001b[0m\u001b[1;33m)\u001b[0m \u001b[1;33m:\u001b[0m\u001b[1;33m\u001b[0m\u001b[1;33m\u001b[0m\u001b[0m\n\u001b[0;32m      5\u001b[0m     \u001b[0mKa\u001b[0m\u001b[1;33m=\u001b[0m\u001b[0mint\u001b[0m\u001b[1;33m(\u001b[0m\u001b[0minput\u001b[0m\u001b[1;33m(\u001b[0m\u001b[1;34m'Алісо, введіть натуральне число '\u001b[0m\u001b[1;33m)\u001b[0m\u001b[1;33m)\u001b[0m\u001b[1;33m\u001b[0m\u001b[1;33m\u001b[0m\u001b[0m\n\u001b[1;32m----> 6\u001b[1;33m \u001b[0mga\u001b[0m\u001b[1;33m=\u001b[0m\u001b[0mstepin\u001b[0m\u001b[1;33m(\u001b[0m\u001b[0ma\u001b[0m\u001b[1;33m,\u001b[0m \u001b[0mKa\u001b[0m\u001b[1;33m,\u001b[0m \u001b[0mp\u001b[0m\u001b[1;33m)\u001b[0m\u001b[1;33m\u001b[0m\u001b[1;33m\u001b[0m\u001b[0m\n\u001b[0m",
      "\u001b[1;31mNameError\u001b[0m: name 'stepin' is not defined"
     ]
    }
   ],
   "source": [
    "print('Алісо, придумайте свій секретний ключ Ka')\n",
    "Ka=int(input('Алісо, введіть натуральне число '))\n",
    "#допоки Ka не буде введено коректно, будемо повторювати ввід  Ka\n",
    "while (Ka<=0) :\n",
    "    Ka=int(input('Алісо, введіть натуральне число ')) \n",
    "ga=stepin(a, Ka, p)\n"
   ]
  },
  {
   "cell_type": "markdown",
   "metadata": {},
   "source": [
    "Блок Боба"
   ]
  },
  {
   "cell_type": "code",
   "execution_count": 9,
   "metadata": {},
   "outputs": [
    {
     "name": "stdout",
     "output_type": "stream",
     "text": [
      "Бобе, придумайте свій секретний ключ Kb\n",
      "Бобе, введіть натуральне число 201\n"
     ]
    }
   ],
   "source": [
    "print('Бобе, придумайте свій секретний ключ Kb')\n",
    "Kb=int(input('Бобе, введіть натуральне число '))\n",
    "#допоки b не буде введено коректно, будемо повторювати ввід  Kb\n",
    "while (Kb<=0) :\n",
    "    Kb=int(input('Бобе, введіть натуральне число '))\n",
    "gb=stepin(a, Kb, p)"
   ]
  },
  {
   "cell_type": "markdown",
   "metadata": {},
   "source": [
    "Аліса отримує від Боба gb"
   ]
  },
  {
   "cell_type": "code",
   "execution_count": 10,
   "metadata": {},
   "outputs": [
    {
     "name": "stdout",
     "output_type": "stream",
     "text": [
      "Аліса отримує gb: 12\n",
      "В Аліси секрет вийшов: 12\n"
     ]
    }
   ],
   "source": [
    "#Аліса обчислює для себе спільний секрет\n",
    "print('Аліса отримує gb:', gb)\n",
    "sekret_a=stepin(gb, Ka, p)\n",
    "print('В Аліси секрет вийшов:' , sekret_a)"
   ]
  },
  {
   "cell_type": "markdown",
   "metadata": {},
   "source": [
    "Боб отримує від Аліси ga"
   ]
  },
  {
   "cell_type": "code",
   "execution_count": 11,
   "metadata": {},
   "outputs": [
    {
     "name": "stdout",
     "output_type": "stream",
     "text": [
      "Боб отримує ga: 4\n",
      "В Боба секрет вийшов: 12\n"
     ]
    }
   ],
   "source": [
    "#Боб обчислює для себе спільний секрет\n",
    "print('Боб отримує ga:', ga)\n",
    "sekret_b=stepin(ga, Kb, p)\n",
    "print('В Боба секрет вийшов:' , sekret_b)"
   ]
  },
  {
   "cell_type": "code",
   "execution_count": 12,
   "metadata": {},
   "outputs": [
    {
     "name": "stdout",
     "output_type": "stream",
     "text": [
      "все успішно, Аліса та Боб отримали однаковий спільний секрет, а саме: 12\n"
     ]
    }
   ],
   "source": [
    "if sekret_b==sekret_a:\n",
    "    print('все успішно, Аліса та Боб отримали однаковий спільний секрет, а саме:', sekret_b)\n",
    "else:\n",
    "    print('сталася помилка, Аліса отримала {}, а Боб отримав {}'.format(sekret_a, sekret_b))"
   ]
  }
 ],
 "metadata": {
  "kernelspec": {
   "display_name": "Python 3",
   "language": "python",
   "name": "python3"
  },
  "language_info": {
   "codemirror_mode": {
    "name": "ipython",
    "version": 3
   },
   "file_extension": ".py",
   "mimetype": "text/x-python",
   "name": "python",
   "nbconvert_exporter": "python",
   "pygments_lexer": "ipython3",
   "version": "3.8.5"
  }
 },
 "nbformat": 4,
 "nbformat_minor": 4
}

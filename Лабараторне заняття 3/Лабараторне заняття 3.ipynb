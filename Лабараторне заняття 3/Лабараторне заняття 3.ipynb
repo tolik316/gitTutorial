{
 "cells": [
  {
   "cell_type": "markdown",
   "metadata": {},
   "source": [
    "# Домашня робота №3\n",
    "Будемо використовувати *Збірник задач з теорії ймовірностей та математичної статистики: навч. посібник / В.В. Голомозий, М.В. Карташов, К.В. Ральченко. – К.: Видавничо-поліграфічний центр «Київський університет», 2015. – 366 с.*\n",
    "Електронну версію збірника можна знайти [тут](http://probability.univ.kiev.ua/userfiles/kmv/gkr-problems.pdf)."
   ]
  },
  {
   "cell_type": "markdown",
   "metadata": {},
   "source": [
    "## 1 Задача 1.3.12\n",
    "Знайти ймовiрнiсть того, що серед трьох цифр, кожна з яких вибрана навмання, буде лише 1, 2, 3 рiзних.\n",
    "\n",
    "Обчисліть теоретичну (повним перебором) та еміричну (симулюванням $100000$ експериментів) імовірності."
   ]
  },
  {
   "cell_type": "code",
   "execution_count": 5,
   "metadata": {},
   "outputs": [
    {
     "name": "stdout",
     "output_type": "stream",
     "text": [
      "teoretical (1, 2, 3): [0.01, 0.27, 0.72]\n",
      "empirical (1, 2, 3): [0.01015, 0.26834, 0.72151]\n"
     ]
    }
   ],
   "source": [
    "# Місце для Вашого коду\n",
    "\n",
    "from itertools import product\n",
    "import numpy as np\n",
    "\n",
    "amountes = [0, 0, 0]\n",
    "\n",
    "for el in product(range(10), repeat=3):\n",
    "    tmp = set(el)\n",
    "    if len(tmp) == 1:\n",
    "        amountes[0] += 1\n",
    "    elif len(tmp) == 2:\n",
    "        amountes[1] += 1\n",
    "    else:\n",
    "        amountes[2] += 1\n",
    "\n",
    "print('teoretical (1, 2, 3):', list(map(lambda a: a / 10 ** 3, amountes)))\n",
    "\n",
    "amountes = [0, 0, 0]\n",
    "for _ in range(100000):\n",
    "    tmp = np.random.choice(range(10), size=3)\n",
    "    tmp = set(tmp)\n",
    "    if len(tmp) == 1:\n",
    "        amountes[0] += 1\n",
    "    elif len(tmp) == 2:\n",
    "        amountes[1] += 1\n",
    "    else:\n",
    "        amountes[2] += 1\n",
    "\n",
    "print('empirical (1, 2, 3):', list(map(lambda a: a/100000, amountes)))\n"
   ]
  },
  {
   "cell_type": "markdown",
   "metadata": {},
   "source": [
    "# 2 Задача 1.3.14\n",
    "З послiдовностi чисел $1, 2, . . . , n$ вибирають навмання $k$ рiзних чисел.\n",
    "Яка ймовiрнiсть того, що:\n",
    "1. кожне з вибраних чисел кратне даному числу $p$;\n",
    "2. кожне з вибраних чисел кратне хоча б одному з двох взаємно простих чисел $p$ i $q$;\n",
    "3. серед вибраних чисел є хоча б одне кратне $p$?\n",
    "\n",
    "Напишіть  відповідні функції для обрахунку теоретичної (повним перебором) та еміричної (симулюванням $100000$ експериментів) імовірностей в залежності від параметрів $n, k, p, q$.\n",
    "Виведіть результат для\n",
    "- $n = 25, k = 5, p = 3, q = 4$;\n",
    "- $n = 25, k = 10, p = 3, q = 4$."
   ]
  },
  {
   "cell_type": "code",
   "execution_count": 14,
   "metadata": {},
   "outputs": [
    {
     "name": "stdout",
     "output_type": "stream",
     "text": [
      "teoretical for (25, 5, 3, 4): [0.001054018445322793, 0.014906832298136646, 0.8835309617918313]\n",
      "empirical for (25, 5, 3, 4): [0.00123, 0.01509, 0.8863]\n",
      "teoretical for (25, 10, 3, 4): [0.0, 2.0191142818683536e-05, 0.9940503432494279]\n",
      "empirical for (25, 10, 3, 4): [0.0, 3e-05, 0.99412]\n"
     ]
    }
   ],
   "source": [
    "# Місце для Вашого коду\n",
    "\n",
    "from itertools import combinations\n",
    "\n",
    "def teor(n, k, p, q):\n",
    "    amount = [0, 0, 0]\n",
    "    count = 0\n",
    "    for el in combinations(range(1, n+1), k):\n",
    "        count += 1\n",
    "        if all(map(lambda a: a % p == 0, el)):\n",
    "            amount[0] += 1\n",
    "        if all(map(lambda a: a % p == 0 or a % q == 0, el)):\n",
    "            amount[1] += 1\n",
    "        if any(map(lambda a: a % p == 0, el)):\n",
    "            amount[2] += 1\n",
    "    return list(map(lambda a: a / count, amount))\n",
    "\n",
    "\n",
    "def practice(n, k, p, q):\n",
    "    amount = [0, 0, 0]\n",
    "    count = 0\n",
    "    for _ in range(100000):\n",
    "        el = np.random.choice(range(1, n+1), size=k, replace=False)\n",
    "        count += 1\n",
    "        if all(map(lambda a: a % p == 0, el)):\n",
    "            amount[0] += 1\n",
    "        if all(map(lambda a: a % p == 0 or a % q == 0, el)):\n",
    "            amount[1] += 1\n",
    "        if any(map(lambda a: a % p == 0, el)):\n",
    "            amount[2] += 1\n",
    "    return list(map(lambda a: a / count, amount))\n",
    "    \n",
    "    \n",
    "for el in [(25, 5, 3, 4), (25, 10, 3, 4)]:\n",
    "    print('teoretical for {}: {}'.format(el, teor(*el)))\n",
    "    print('empirical for {}: {}'.format(el, practice(*el)))\n",
    "\n"
   ]
  },
  {
   "cell_type": "markdown",
   "metadata": {},
   "source": [
    "# 3 Задача 1.4.6\n",
    "В коморi знаходяться $n$ пар черевикiв.\n",
    "З них випадковим чином вибираються $2k$ черевикiв.\n",
    "Яка ймовiрнiсть того, що серед вибраних черевикiв:\n",
    "1. вiдсутнi парнi;\n",
    "2. є рiвно одна комплектна пара;\n",
    "3. є двi комплектнi пари?\n",
    "\n",
    "Напишіть  відповідні функції для обрахунку теоретичної (повним перебором) та еміричної (симулюванням $100000$ експериментів) імовірностей в залежності від параметрів $n, k$.\n",
    "Виведіть результат для\n",
    "- $n = 8, k = 4$;\n",
    "- $n = 13, k = 5$."
   ]
  },
  {
   "cell_type": "code",
   "execution_count": 16,
   "metadata": {},
   "outputs": [
    {
     "name": "stdout",
     "output_type": "stream",
     "text": [
      "teoretical for (8, 4): [0.01989121989121989, 0.2784770784770785, 0.5221445221445221]\n",
      "empirical for (8, 4): [0.01989, 0.28042, 0.52075]\n",
      "teoretical for (13, 5): [0.05513528065688518, 0.31013595369497915, 0.4341903351729708]\n",
      "empirical for (13, 5): [0.05481, 0.31093, 0.43429]\n"
     ]
    }
   ],
   "source": [
    "# Місце для Вашого коду\n",
    "\n",
    "def teor(n, k):\n",
    "    amount = [0, 0, 0]\n",
    "    space = list(range(n)) + list(range(n))\n",
    "    count = 0\n",
    "    for el in combinations(space, 2 * k):\n",
    "        count += 1\n",
    "        tmp = set(el)\n",
    "        if len(tmp) == 2 * k:\n",
    "            amount[0] += 1\n",
    "        elif len(tmp) == 2 * k - 1:\n",
    "            amount[1] += 1\n",
    "        elif len(tmp) == 2 * k - 2:\n",
    "            amount[2] += 1\n",
    "    return list(map(lambda a: a / count, amount))\n",
    "\n",
    "\n",
    "def practice(n, k):\n",
    "    amount = [0, 0, 0]\n",
    "    space = list(range(n)) + list(range(n))\n",
    "    for _ in range(100000):\n",
    "        tmp = set(np.random.choice(space, size=2*k, replace=False))\n",
    "        if len(tmp) == 2 * k:\n",
    "            amount[0] += 1\n",
    "        elif len(tmp) == 2 * k - 1:\n",
    "            amount[1] += 1\n",
    "        elif len(tmp) == 2 * k - 2:\n",
    "            amount[2] += 1\n",
    "    return list(map(lambda a: a / 100000, amount))\n",
    "\n",
    "\n",
    "for n, k in [(8, 4), (13, 5)]:\n",
    "    print('teoretical for {}: {}'.format((n, k), teor(n, k)))\n",
    "    print('empirical for {}: {}'.format((n, k), practice(n, k)))\n"
   ]
  },
  {
   "cell_type": "markdown",
   "metadata": {},
   "source": [
    "# 4 Задача 1.2.15\n",
    "Нехай $\\Omega = {1, 2, \\ldots, 2n}$.\n",
    "Всiм числам приписанi ймовiрностi, пропорцiйнi логарифмам цих чисел.\n",
    "Знайти цi ймовiрностi.\n",
    "Знайти ймовiрнiсть того, що в результатi експерименту з’явиться:\n",
    "1. парне число;\n",
    "2. непарне число.\n",
    "\n",
    "Напишіть функцію для обрахунку еміричної (симулюванням $100000$ експериментів) імовірності в залежності від параметра $n$.\n",
    "Виведіть результат для\n",
    "- $n = 10$;\n",
    "- $n = 25$."
   ]
  },
  {
   "cell_type": "code",
   "execution_count": 19,
   "metadata": {},
   "outputs": [
    {
     "name": "stdout",
     "output_type": "stream",
     "text": [
      "probabilities for 10: [0.0, 0.01761945147732497, 0.02792616987483605, 0.03523890295464994, 0.04091109940170548, 0.04554562135216102, 0.04946405382882337, 0.0528583544319749, 0.0558523397496721, 0.05853055087903046, 0.06095328754370363, 0.06316507282948598, 0.06519971805855306, 0.06708350530614833, 0.06883726927654153, 0.07047780590929988, 0.07201885319677921, 0.07347179122699707, 0.07484615270231296]\n",
      "sum of probs: 1.0\n",
      "empirical for 10 (even, odd): [0.48243, 0.51757]\n",
      "\n",
      "probabilities for 25: [0.0, 0.0047946848377663, 0.007599395670635888, 0.0095893696755326, 0.011132913430940028, 0.012394080508402188, 0.01346038207901819, 0.014384054513298902, 0.015198791341271776, 0.015927598268706333, 0.016586884329169584, 0.017188765346168488, 0.0177424422096393, 0.01825506691678449, 0.018732309101575917, 0.0191787393510652, 0.019598096109876166, 0.019993476179038076, 0.02036747364063826, 0.02072228310647263, 0.021059777749654077, 0.021381569166935885, 0.02168905392340303, 0.021983450183934793, 0.022265826861880056, 0.0225371270474056, 0.022798187011907663, 0.02304975175455079, 0.023292487819495018, 0.023526993939342218, 0.023753809932729703, 0.023973424188831506, 0.02418627999980547, 0.02439278094764247, 0.02459329550995822, 0.024788161016804377, 0.024977687065231752, 0.025162158478404563, 0.025341837880275185, 0.02551696794423893, 0.02568777336408678, 0.025854462587420378, 0.026017229345075825, 0.026176254004702183, 0.026331704772211802, 0.026483738761169332, 0.026632502947164495, 0.026778135021701094, 0.02692076415803638]\n",
      "sum of probs: 1.0\n",
      "empirical for 25 (even, odd): [0.49373, 0.50627]\n",
      "\n"
     ]
    }
   ],
   "source": [
    "# Місце для Вашого коду\n",
    "\n",
    "from math import log\n",
    "\n",
    "\n",
    "def compute_probabilities(numbers):\n",
    "    tmp = list(map(log, numbers))\n",
    "    k = 1 / (sum(tmp))\n",
    "    return list(map(lambda a: a * k, tmp))\n",
    "\n",
    "\n",
    "def practice(n):\n",
    "    space = range(1, 2*n)\n",
    "    probs = compute_probabilities(space)\n",
    "    amount = [0, 0]\n",
    "    for _ in range(100000):\n",
    "        tmp = np.random.choice(space, size=1, p=probs)\n",
    "        if tmp % 2 == 0:\n",
    "            amount[0] += 1\n",
    "        else:\n",
    "            amount[1] += 1\n",
    "    return list(map(lambda a: a / 100000, amount))\n",
    "\n",
    "\n",
    "for n in [10, 25]:\n",
    "    test_prob = compute_probabilities(range(1, 2*n))\n",
    "    print('probabilities for {}: {}'.format(n, test_prob))\n",
    "    print('sum of probs: {}'.format(sum(test_prob)))\n",
    "    print('empirical for {} (even, odd): {}'.format(n, practice(n)))\n",
    "    print()\n"
   ]
  }
 ],
 "metadata": {
  "kernelspec": {
   "display_name": "Python 3",
   "language": "python",
   "name": "python3"
  },
  "language_info": {
   "codemirror_mode": {
    "name": "ipython",
    "version": 3
   },
   "file_extension": ".py",
   "mimetype": "text/x-python",
   "name": "python",
   "nbconvert_exporter": "python",
   "pygments_lexer": "ipython3",
   "version": "3.6.7"
  }
 },
 "nbformat": 4,
 "nbformat_minor": 1
}

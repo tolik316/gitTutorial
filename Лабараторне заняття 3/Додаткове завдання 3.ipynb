{
 "cells": [
  {
   "cell_type": "markdown",
   "metadata": {},
   "source": [
    "# Додаткові завдання №3"
   ]
  },
  {
   "cell_type": "markdown",
   "metadata": {},
   "source": [
    "## 1 Перевірка взаємної простоти двох чисел\n",
    "Реалізуйте алгоритм Евкліда для перевірки взаємної простоти двох чисел (у вигляді функції від двох аргументів).\n",
    "Виконайте друге завдання з **Домашньої роботи №3** (**Задача 1.3.14**) з використанням даної функції."
   ]
  },
  {
   "cell_type": "code",
   "execution_count": 3,
   "metadata": {},
   "outputs": [
    {
     "name": "stdout",
     "output_type": "stream",
     "text": [
      "teoretical for (25, 5, 3, 4): [0.001054018445322793, 0.014906832298136646, 0.8835309617918313]\n",
      "empirical for (25, 5, 3, 4): [0.00116, 0.01466, 0.88373]\n",
      "teoretical for (25, 10, 3, 4): [0.0, 2.0191142818683536e-05, 0.9940503432494279]\n",
      "empirical for (25, 10, 3, 4): [0.0, 2e-05, 0.99402]\n"
     ]
    }
   ],
   "source": [
    "# Місце для Вашого коду\n",
    "import numpy as np\n",
    "from itertools import combinations\n",
    "\n",
    "\n",
    "def is_mutually_simple(a, b):\n",
    "    while a != 0 and b != 0:\n",
    "        if a > b:\n",
    "            a = a % b\n",
    "        else:\n",
    "            b = b % a\n",
    "    return a + b == 1\n",
    "\n",
    "def teor(n, k, p, q):\n",
    "    amount = [0, 0, 0]\n",
    "    count = 0\n",
    "    for el in combinations(range(1, n+1), k):\n",
    "        count += 1\n",
    "        if all(map(lambda a: a % p == 0, el)):\n",
    "            amount[0] += 1\n",
    "        if all(map(lambda a: a % p == 0 or a % q == 0, el)):\n",
    "            amount[1] += 1\n",
    "        if any(map(lambda a: a % p == 0, el)):\n",
    "            amount[2] += 1\n",
    "    \n",
    "    # just added the checking if p and q are mutually simple \n",
    "    if not is_mutually_simple(p, q):\n",
    "        a[1] = None\n",
    "    return list(map(lambda a: a / count, amount))\n",
    "\n",
    "\n",
    "def practice(n, k, p, q):\n",
    "    amount = [0, 0, 0]\n",
    "    count = 0\n",
    "    for _ in range(100000):\n",
    "        el = np.random.choice(range(1, n+1), size=k, replace=False)\n",
    "        count += 1\n",
    "        if all(map(lambda a: a % p == 0, el)):\n",
    "            amount[0] += 1\n",
    "        if all(map(lambda a: a % p == 0 or a % q == 0, el)):\n",
    "            amount[1] += 1\n",
    "        if any(map(lambda a: a % p == 0, el)):\n",
    "            amount[2] += 1\n",
    "    \n",
    "    # just added the checking if p and q are mutually simple \n",
    "    if not is_mutually_simple(p, q):\n",
    "        a[1] = None\n",
    "    return list(map(lambda a: a / count, amount))\n",
    "    \n",
    "    \n",
    "for el in [(25, 5, 3, 4), (25, 10, 3, 4)]:\n",
    "    print('teoretical for {}: {}'.format(el, teor(*el)))\n",
    "    print('empirical for {}: {}'.format(el, practice(*el)))\n"
   ]
  },
  {
   "cell_type": "markdown",
   "metadata": {},
   "source": [
    "## 2 Аналіз функцій з класу *numpy.random*\n",
    "Проаналізуйте взаємозв'язок між функціями з класу **numpy.random**:\n",
    "- [rand](https://docs.scipy.org/doc/numpy-1.14.1/reference/generated/numpy.random.rand.html)\n",
    "- [randint](https://docs.scipy.org/doc/numpy-1.14.1/reference/generated/numpy.random.randint.html)\n",
    "- [random_integers](https://docs.scipy.org/doc/numpy-1.14.1/reference/generated/numpy.random.random_integers.html)\n",
    "- [random_sample](https://docs.scipy.org/doc/numpy-1.14.1/reference/generated/numpy.random.random_sample.html)\n",
    "- [random](https://docs.scipy.org/doc/numpy-1.14.1/reference/generated/numpy.random.random.html)\n",
    "- [ranf](https://docs.scipy.org/doc/numpy-1.14.1/reference/generated/numpy.random.ranf.html)\n",
    "- [sample](https://docs.scipy.org/doc/numpy-1.14.1/reference/generated/numpy.random.sample.html)\n",
    "- [choice](https://docs.scipy.org/doc/numpy-1.14.1/reference/generated/numpy.random.choice.html)\n",
    "- [shuffle](https://docs.scipy.org/doc/numpy-1.14.1/reference/generated/numpy.random.shuffle.html)\n",
    "- [permutation](https://docs.scipy.org/doc/numpy-1.14.1/reference/generated/numpy.random.permutation.html)"
   ]
  },
  {
   "cell_type": "code",
   "execution_count": 18,
   "metadata": {},
   "outputs": [
    {
     "name": "stdout",
     "output_type": "stream",
     "text": [
      "[[0.99861022 0.32528565]\n",
      " [0.30015375 0.5565446 ]\n",
      " [0.42238089 0.38611374]] \n",
      "\n",
      "[[6.61055504e-01 9.10716335e-01]\n",
      " [8.07047201e-01 5.88175299e-04]\n",
      " [8.87927326e-01 3.22498318e-01]] \n",
      "\n",
      "[[0.73459701 0.05886384]\n",
      " [0.92837092 0.85335752]\n",
      " [0.75964818 0.38446405]] \n",
      "\n",
      "[[0.99487005 0.66068076]\n",
      " [0.3442691  0.68640326]\n",
      " [0.7922874  0.73994385]] \n",
      "\n",
      "[[0.41093755 0.83057912]\n",
      " [0.91405073 0.35390571]\n",
      " [0.06484533 0.2782682 ]] \n",
      "\n",
      "[ 7  9 12 10  3  5  7  9  3 11  2  9  1  2 13 14  3 12  6  4  4 11  6  2\n",
      " 14 13  2 12 14 10 12 12  6  3  8  8  4  1  9 11  1  1  3 11  3 11  8  6\n",
      " 12 14] \n",
      "\n",
      "[ 1  6  4 13  6 11 14 12  7  1 12  1 14  9  5  6 12  8  7 14  2  4 15  7\n",
      " 10 11  5 14  6 10 10  9  5  5  2  5  8 12  9 11 14 13  4  5 13  2  4  4\n",
      " 10  2] \n",
      "\n",
      "a:  [ 1  2  3  4  5  6  7  8  9 10 11 12 13 14 15 16 17 18 19 20 21 22 23 24\n",
      " 25 26 27 28 29 30 31 32 33 34 35 36 37 38 39 40 41 42 43 44 45 46 47 48\n",
      " 49 50 51 52 53 54 55 56 57 58 59 60 61 62 63 64 65 66 67 68 69 70 71 72\n",
      " 73 74 75 76 77 78 79 80 81 82 83 84 85 86 87 88 89 90 91 92 93 94 95 96\n",
      " 97 98 99] \n",
      "\n",
      "permutation:  [86 11 17 23 19 31 66 25 37  1 82 70 55  8 83 76 90 24 94 32 89 64 27 47\n",
      " 61 46 36  7 63 51 77 45 85 10 18 56 78 33 28 12  4 60 92  9 43 69 93 14\n",
      " 79 81 95 67 30 42 75 98 96 34  3 53 29 91 44 62 57 54  5 20 50 15 22 48\n",
      " 13 73 80 40 71 97  2  6 65 41 68 26 99 59 38 72 16 49 58 35 84 21 88 52\n",
      " 39 74 87] \n",
      "\n",
      "a didn't change: [ 1  2  3  4  5  6  7  8  9 10 11 12 13 14 15 16 17 18 19 20 21 22 23 24\n",
      " 25 26 27 28 29 30 31 32 33 34 35 36 37 38 39 40 41 42 43 44 45 46 47 48\n",
      " 49 50 51 52 53 54 55 56 57 58 59 60 61 62 63 64 65 66 67 68 69 70 71 72\n",
      " 73 74 75 76 77 78 79 80 81 82 83 84 85 86 87 88 89 90 91 92 93 94 95 96\n",
      " 97 98 99] \n",
      "\n",
      "after shuffle: [15 55 87 50 45 69 79 25 16 19 68 73 23 64 96 62  6 46 47 83 22 80 59 21\n",
      " 11 98 13  1 32 42 77 85 78 52 51 12 75 48 92 10 57  3 81 97 67 18 88  9\n",
      " 41 70 61 54  7 27 34 65 89 14 17  2 63 43 24 99 86 26 33 66 93 38 20 28\n",
      " 95 72 94 49 74 53 35 29 30 40 76 71  4 58 31 36  5 60  8 56 84 39 44 82\n",
      " 37 91 90] \n",
      "\n"
     ]
    },
    {
     "name": "stderr",
     "output_type": "stream",
     "text": [
      "/usr/lib/python3/dist-packages/ipykernel_launcher.py:23: DeprecationWarning: This function is deprecated. Please call randint(1, 15 + 1) instead\n"
     ]
    }
   ],
   "source": [
    "# Місце для Вашого коду та висновків\n",
    "\n",
    "# однакові функції, в яких тільки відрізняється вигляд параметра size\n",
    "# зроблено для зручності\n",
    "print(np.random.rand(3, 2), '\\n')\n",
    "print(np.random.random_sample((3, 2)), '\\n')\n",
    "\n",
    "# в цих функціях документація з random_sample. Скоріш за все, теж зроблено для зручності\n",
    "print(np.random.random((3, 2)), '\\n')\n",
    "print(np.random.ranf((3, 2)), '\\n')\n",
    "print(np.random.sample((3, 2)), '\\n')\n",
    "\n",
    "# randint(low, hight, size, dtype) генерує випадкове число (або size чисел) з рівномірним дискретним розподілом з \n",
    "# напівінтервала [low, hight)\n",
    "# якщо hight упущений, то з напівінтервала [0, low)\n",
    "# dtype додатково вказує якого типу буде вертатись результат\n",
    "\n",
    "# random_integers(low, hight, size) генерує випадкове число (або size чисел) з рівномірним дискретним розподілом з \n",
    "# відрізка [low, hight]\n",
    "# якщо hight упущений, то з відрізка [1, low]\n",
    "\n",
    "print(np.random.randint(1, 15, size=50), '\\n')\n",
    "print(np.random.random_integers(1, 15, size=50), '\\n')\n",
    "\n",
    "\n",
    "# shuffle перемішує список/масив, а permutations створює копію списку/масиву і перемішує її\n",
    "a = np.arange(1, 100)\n",
    "print('a: ', a, '\\n')\n",
    "print('permutation: ', np.random.permutation(a), '\\n')\n",
    "print(\"a didn't change:\", a, '\\n')\n",
    "np.random.shuffle(a)\n",
    "print(\"after shuffle:\", a, '\\n')\n"
   ]
  }
 ],
 "metadata": {
  "kernelspec": {
   "display_name": "Python 3",
   "language": "python",
   "name": "python3"
  },
  "language_info": {
   "codemirror_mode": {
    "name": "ipython",
    "version": 3
   },
   "file_extension": ".py",
   "mimetype": "text/x-python",
   "name": "python",
   "nbconvert_exporter": "python",
   "pygments_lexer": "ipython3",
   "version": "3.6.7"
  }
 },
 "nbformat": 4,
 "nbformat_minor": 1
}

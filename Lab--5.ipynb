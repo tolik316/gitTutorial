{
 "cells": [
  {
   "cell_type": "code",
   "execution_count": 1,
   "metadata": {},
   "outputs": [],
   "source": [
    "import numpy as np\n",
    "#import warnings\n",
    "#warnings.filterwarnings('ignore')\n",
    "\n",
    "def stepin(a, b, p):\n",
    "    rez=[a]\n",
    "    for i in range(len(bin_b)):\n",
    "        bin_b[i]=int(bin_b[i])\n",
    "    for i in range(len(bin_b)-1):\n",
    "        rez=[(rez[0]**2)%p]+rez\n",
    "        \n",
    "    rez=np.array(rez)\n",
    "    bin_b=np.array(bin_b)\n",
    "    rez_=rez**bin_b\n",
    "    rez__=1\n",
    "    for i in rez_:\n",
    "        rez__*=i\n",
    "        rez__%=p\n",
    "    rez__%=p\n",
    "    return(rez__)\n"
   ]
  },
  {
   "cell_type": "markdown",
   "metadata": {},
   "source": [
    "Завдання 1. Знаходження твірного елемента"
   ]
  },
  {
   "cell_type": "code",
   "execution_count": null,
   "metadata": {},
   "outputs": [],
   "source": [
    "p=int(input('введіть непарне просте p, бінарна довжина якого менша за 20:   '))\n",
    "while (p>=2**20) or (p%2!=1): \n",
    "    p=int(input('введіть коректне непарне просте p, бінарна довжина якого менша за 20:  '))\n",
    "def tvirniy(p):\n",
    "    \n",
    "    tvirni=[]\n",
    "    for a in range(1, p):\n",
    "        if stepin(a,p-1,p) == 1:\n",
    "            \n",
    "            for i in range(2,p-1):\n",
    "                if stepin(a,i,p)==1:\n",
    "                    break\n",
    "                else: \n",
    "                    continue\n",
    "            else:\n",
    "                tvirni.append(a)\n",
    "    return(tvirni)\n",
    "    \n",
    "print(tvirniy(p))"
   ]
  },
  {
   "cell_type": "markdown",
   "metadata": {},
   "source": [
    "# Завдання 2. Знаходження дискретного логарифму методом маленьких-великих кроків."
   ]
  },
  {
   "cell_type": "code",
   "execution_count": 3,
   "metadata": {},
   "outputs": [],
   "source": [
    "\n",
    "def baby_giant_step(a, h, p, dija, f_inv, e):\n",
    "    '''a - твірний елемент. h- елемент, логарифм з якого шукаєм твірний елемент, p-порядок групи, dija - функція, що визначає дію множення для групи.  f_inv - функція, що визначає взяття оберненого для групи. e - нейтральний елемент Повертає DLog(h)'''\n",
    "    M=int(np.sqrt(p)//1)\n",
    "    little=[e, a]\n",
    "    for i in range(2, M+1):\n",
    "        little.append(dija(little[-1], a))\n",
    "    k=1\n",
    "    a_M=f_inv(little[-1])\n",
    "  \n",
    "    giant=[dija(h, a_M)]\n",
    "    while giant[-1] not in little:\n",
    "        giant.append(dija(giant[-1], a_M))\n",
    "        k+=1\n",
    "    \n",
    "    for L in range (M+1):\n",
    "        if little[L]==giant[-1]:\n",
    "            rez=L+k*M\n",
    "            \n",
    "            return(rez)\n",
    "                   \n",
    "\n"
   ]
  },
  {
   "cell_type": "markdown",
   "metadata": {},
   "source": [
    "перевіряємо на адитивній групі Z13"
   ]
  },
  {
   "cell_type": "code",
   "execution_count": 4,
   "metadata": {},
   "outputs": [
    {
     "name": "stdout",
     "output_type": "stream",
     "text": [
      "8\n"
     ]
    }
   ],
   "source": [
    "\n",
    "def dija(a, b):\n",
    "    '''в якості дії - додавання за модулем 13'''\n",
    "    return((a+b)%13)\n",
    "def f_inv(a):\n",
    "    '''обернений до елемента - цей же елемеент з протилежним знаком за модулем 13'''\n",
    "    return(-a%13)\n",
    "\n",
    "print(baby_giant_step(2, 3, 13, dija, f_inv, 0))"
   ]
  },
  {
   "cell_type": "markdown",
   "metadata": {},
   "source": [
    "перевірка"
   ]
  },
  {
   "cell_type": "code",
   "execution_count": 5,
   "metadata": {},
   "outputs": [
    {
     "data": {
      "text/plain": [
       "3"
      ]
     },
     "execution_count": 5,
     "metadata": {},
     "output_type": "execute_result"
    }
   ],
   "source": [
    "(2*8)%13"
   ]
  },
  {
   "cell_type": "markdown",
   "metadata": {},
   "source": [
    "ми переконалися, що якщо над 2 повторити дыю групи 8 разів, то дійсно отримаємо 3. Отже, в даній групі дискретний логарифм з 3 по основі 2 буде 8 - алгоритм спрацював правильно."
   ]
  },
  {
   "cell_type": "markdown",
   "metadata": {},
   "source": [
    "# Завдання 3. Алгоритм Діффі-Хеллмана"
   ]
  },
  {
   "cell_type": "code",
   "execution_count": 6,
   "metadata": {},
   "outputs": [],
   "source": [
    "import numpy as np"
   ]
  },
  {
   "cell_type": "markdown",
   "metadata": {},
   "source": [
    "Блок вибору параметрів"
   ]
  },
  {
   "cell_type": "code",
   "execution_count": 7,
   "metadata": {},
   "outputs": [
    {
     "name": "stdout",
     "output_type": "stream",
     "text": [
      "Введіть просте число p 13\n",
      "Введіть ціле число a, більше за 0 і менше за p, яке буде використовуватись в якості твірного елемента групи 10\n"
     ]
    }
   ],
   "source": [
    "\n",
    "p=int(input('Введіть просте число p '))\n",
    "a=int(input('Введіть ціле число a, більше за 0 і менше за p, яке буде використовуватись в якості твірного елемента групи '))\n",
    "while (a<=0) or (a>=p):\n",
    "    a=int(input('Введіть ціле число a, більше за 0 і менше за p, яке буде використовуватись в якості твірного елемента групи '))"
   ]
  },
  {
   "cell_type": "markdown",
   "metadata": {},
   "source": [
    "Блок Аліси"
   ]
  },
  {
   "cell_type": "code",
   "execution_count": 8,
   "metadata": {},
   "outputs": [
    {
     "name": "stdout",
     "output_type": "stream",
     "text": [
      "Алісо, придумайте свій секретний ключ Ka\n",
      "Алісо, введіть натуральне число 17\n"
     ]
    }
   ],
   "source": [
    "print('Алісо, придумайте свій секретний ключ Ka')\n",
    "Ka=int(input('Алісо, введіть натуральне число '))\n",
    "while (Ka<=0) :\n",
    "    Ka=int(input('Алісо, введіть натуральне число ')) \n",
    "ga=stepin(a, Ka, p)\n"
   ]
  },
  {
   "cell_type": "markdown",
   "metadata": {},
   "source": [
    "Блок Боба"
   ]
  },
  {
   "cell_type": "code",
   "execution_count": 9,
   "metadata": {},
   "outputs": [
    {
     "name": "stdout",
     "output_type": "stream",
     "text": [
      "Бобе, придумайте свій секретний ключ Kb\n",
      "Бобе, введіть натуральне число 201\n"
     ]
    }
   ],
   "source": [
    "print('Бобе, придумайте свій секретний ключ Kb')\n",
    "Kb=int(input('Бобе, введіть натуральне число '))\n",
    "while (Kb<=0) :\n",
    "    Kb=int(input('Бобе, введіть натуральне число '))\n",
    "gb=stepin(a, Kb, p)"
   ]
  },
  {
   "cell_type": "markdown",
   "metadata": {},
   "source": [
    "Аліса отримує від Боба gb"
   ]
  },
  {
   "cell_type": "code",
   "execution_count": 10,
   "metadata": {},
   "outputs": [
    {
     "name": "stdout",
     "output_type": "stream",
     "text": [
      "Аліса отримує gb: 12\n",
      "В Аліси секрет вийшов: 12\n"
     ]
    }
   ],
   "source": [
    "\n",
    "print('Аліса отримує gb:', gb)\n",
    "sekret_a=stepin(gb, Ka, p)\n",
    "print('В Аліси секрет вийшов:' , sekret_a)"
   ]
  },
  {
   "cell_type": "markdown",
   "metadata": {},
   "source": [
    "Боб отримує від Аліси ga"
   ]
  },
  {
   "cell_type": "code",
   "execution_count": 11,
   "metadata": {},
   "outputs": [
    {
     "name": "stdout",
     "output_type": "stream",
     "text": [
      "Боб отримує ga: 4\n",
      "В Боба секрет вийшов: 12\n"
     ]
    }
   ],
   "source": [
    "\n",
    "print('Боб отримує ga:', ga)\n",
    "sekret_b=stepin(ga, Kb, p)\n",
    "print('В Боба секрет вийшов:' , sekret_b)"
   ]
  },
  {
   "cell_type": "code",
   "execution_count": 12,
   "metadata": {},
   "outputs": [
    {
     "name": "stdout",
     "output_type": "stream",
     "text": [
      "все успішно, Аліса та Боб отримали однаковий спільний секрет, а саме: 12\n"
     ]
    }
   ],
   "source": [
    "if sekret_b==sekret_a:\n",
    "    print('все успішно, Аліса та Боб отримали однаковий спільний секрет, а саме:', sekret_b)\n",
    "else:\n",
    "    print('сталася помилка, Аліса отримала {}, а Боб отримав {}'.format(sekret_a, sekret_b))"
   ]
  }
 ],
 "metadata": {
  "kernelspec": {
   "display_name": "Python 3",
   "language": "python",
   "name": "python3"
  },
  "language_info": {
   "codemirror_mode": {
    "name": "ipython",
    "version": 3
   },
   "file_extension": ".py",
   "mimetype": "text/x-python",
   "name": "python",
   "nbconvert_exporter": "python",
   "pygments_lexer": "ipython3",
   "version": "3.8.5"
  }
 },
 "nbformat": 4,
 "nbformat_minor": 4
}
